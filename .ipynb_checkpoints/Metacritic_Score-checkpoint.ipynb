{
 "cells": [
  {
   "cell_type": "code",
   "execution_count": 2,
   "metadata": {},
   "outputs": [],
   "source": [
    "import pandas as pd\n",
    "import datetime\n",
    "from sqlalchemy import create_engine\n"
   ]
  },
  {
   "cell_type": "code",
   "execution_count": null,
   "metadata": {},
   "outputs": [],
   "source": [
    "json_file = \"metacritic_games.json\"\n",
    "metacritic_df = pd.read_json(json_file)\n",
    "metacritic_df.head()"
   ]
  },
  {
   "cell_type": "code",
   "execution_count": null,
   "metadata": {},
   "outputs": [],
   "source": [
    "new_metacritic_df = metacritic_df.drop(columns =['developer',\n",
    "                'genre(s)','players','rating','attribute','link','critic_positive',\n",
    "            'critic_neutral','critic_negative','user_positive','user_neutral','user_negative']) \n",
    "\n"
   ]
  },
  {
   "cell_type": "code",
   "execution_count": null,
   "metadata": {},
   "outputs": [],
   "source": [
    "new_metacritic_df.rename(columns={'name':'Name',\n",
    "                          'platform':'Platform',\n",
    "                          'publisher':'Publisher'}, \n",
    "                 inplace=True)"
   ]
  },
  {
   "cell_type": "code",
   "execution_count": null,
   "metadata": {},
   "outputs": [],
   "source": [
    "new_metacritic_df.groupby(\"Platform\")[\"metascore\"].mean()"
   ]
  },
  {
   "cell_type": "code",
   "execution_count": null,
   "metadata": {},
   "outputs": [],
   "source": [
    "new_metacritic_df.loc[new_metacritic_df['Platform']=='3DS','Company'] = 'Nintendo'\n",
    "new_metacritic_df.loc[new_metacritic_df['Platform']=='DS','Company'] = 'Nintendo'\n",
    "new_metacritic_df.loc[new_metacritic_df['Platform']=='GBA','Company'] = 'Nintendo'\n",
    "new_metacritic_df.loc[new_metacritic_df['Platform']=='GC','Company'] = 'Nintendo'\n",
    "new_metacritic_df.loc[new_metacritic_df['Platform']=='N64','Company'] = 'Nintendo'\n",
    "new_metacritic_df.loc[new_metacritic_df['Platform']=='Switch','Company'] = 'Nintendo'\n",
    "new_metacritic_df.loc[new_metacritic_df['Platform']=='WII','Company'] = 'Nintendo'\n",
    "new_metacritic_df.loc[new_metacritic_df['Platform']=='WIIU','Company'] = 'Nintendo'\n",
    "\n",
    "new_metacritic_df.loc[new_metacritic_df['Platform']=='PS','Company'] = 'Sony'\n",
    "new_metacritic_df.loc[new_metacritic_df['Platform']=='PS2','Company'] = 'Sony'\n",
    "new_metacritic_df.loc[new_metacritic_df['Platform']=='PS3','Company'] = 'Sony'\n",
    "new_metacritic_df.loc[new_metacritic_df['Platform']=='PS4','Company'] = 'Sony'\n",
    "new_metacritic_df.loc[new_metacritic_df['Platform']=='PSP','Company'] = 'Sony'\n",
    "new_metacritic_df.loc[new_metacritic_df['Platform']=='VITA','Company'] = 'Sony'\n",
    "\n",
    "new_metacritic_df.loc[new_metacritic_df['Platform']=='XBOX','Company'] = 'Microsoft'\n",
    "new_metacritic_df.loc[new_metacritic_df['Platform']=='X360','Company'] = 'Microsoft'\n",
    "new_metacritic_df.loc[new_metacritic_df['Platform']=='XONE','Company'] = 'Microsoft'\n",
    "\n",
    "\n",
    "\n",
    "new_metacritic_df['Company'].fillna('Other', inplace=True)\n",
    "new_metacritic_df\n"
   ]
  },
  {
   "cell_type": "code",
   "execution_count": null,
   "metadata": {},
   "outputs": [],
   "source": [
    "new_metacritic_df['Year'] = pd.DatetimeIndex(new_metacritic_df['release_date']).year"
   ]
  },
  {
   "cell_type": "code",
   "execution_count": null,
   "metadata": {},
   "outputs": [],
   "source": [
    "new_metacritic_df = new_metacritic_df[(new_metacritic_df['Year'] > 1996) & (new_metacritic_df['Year'] <= 2017)]\n",
    "new_metacritic_df"
   ]
  },
  {
   "cell_type": "code",
   "execution_count": null,
   "metadata": {},
   "outputs": [],
   "source": [
    "new_metacritic_df.to_csv"
   ]
  },
  {
   "cell_type": "code",
   "execution_count": null,
   "metadata": {},
   "outputs": [],
   "source": []
  }
 ],
 "metadata": {
  "kernelspec": {
   "display_name": "Python [conda env:PythonData]",
   "language": "python",
   "name": "conda-env-PythonData-py"
  },
  "language_info": {
   "codemirror_mode": {
    "name": "ipython",
    "version": 3
   },
   "file_extension": ".py",
   "mimetype": "text/x-python",
   "name": "python",
   "nbconvert_exporter": "python",
   "pygments_lexer": "ipython3",
   "version": "3.8.3"
  }
 },
 "nbformat": 4,
 "nbformat_minor": 4
}
