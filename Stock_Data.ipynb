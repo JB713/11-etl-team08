{
 "cells": [
  {
   "cell_type": "markdown",
   "metadata": {},
   "source": [
    "# Stock data: load, transform and persist stock data"
   ]
  },
  {
   "cell_type": "markdown",
   "metadata": {},
   "source": [
    "### Import libraries\n"
   ]
  },
  {
   "cell_type": "code",
   "execution_count": 2,
   "metadata": {},
   "outputs": [],
   "source": [
    "import pandas as pd\n",
    "import yfinance as yf\n",
    "from sqlalchemy import create_engine\n",
    "from config import username, password"
   ]
  },
  {
   "cell_type": "markdown",
   "metadata": {},
   "source": [
    "## Load and extract data from Yahoo Finance API"
   ]
  },
  {
   "cell_type": "markdown",
   "metadata": {},
   "source": [
    "### Load Nintendo data"
   ]
  },
  {
   "cell_type": "code",
   "execution_count": 3,
   "metadata": {},
   "outputs": [
    {
     "name": "stdout",
     "output_type": "stream",
     "text": [
      "{'sector': 'Communication Services', 'market': 'us_market', 'longName': 'Nintendo Co., Ltd.', 'shortName': 'NINTENDO CO LTD', 'symbol': 'NTDOY'}\n",
      "             Open   High    Low  Close  Volume  Dividends  Stock Splits\n",
      "Date                                                                   \n",
      "1997-01-02   6.19   6.27   5.85   6.19   44800        0.0             0\n",
      "1997-01-03   6.10   6.19   5.85   6.10   53400        0.0             0\n",
      "1997-01-06   6.02   6.27   5.93   6.02   69600        0.0             0\n",
      "1997-01-07   6.19   6.27   5.85   6.19   38100        0.0             0\n",
      "1997-01-08   5.85   6.19   5.80   5.85   52000        0.0             0\n",
      "...           ...    ...    ...    ...     ...        ...           ...\n",
      "2016-12-23  23.02  23.20  22.74  23.10  286300        0.0             0\n",
      "2016-12-27  23.84  24.17  23.84  24.06  276400        0.0             0\n",
      "2016-12-28  23.98  24.07  23.73  23.76  180700        0.0             0\n",
      "2016-12-29  23.93  24.08  23.77  23.93  165300        0.0             0\n",
      "2016-12-30  23.98  24.21  23.89  23.94  211300        0.0             0\n",
      "\n",
      "[5034 rows x 7 columns]\n"
     ]
    }
   ],
   "source": [
    "nintendo_stock_data = yf.Ticker(\"NTDOY\")\n",
    "\n",
    "nintendo_stock = {\n",
    "    \"sector\" : nintendo_stock_data.info['sector'],\n",
    "    \"market\" : nintendo_stock_data.info['market'],\n",
    "    \"longName\" : nintendo_stock_data.info['longName'],\n",
    "    \"shortName\" : nintendo_stock_data.info['shortName'],\n",
    "    \"symbol\" : nintendo_stock_data.info['symbol']\n",
    "}\n",
    "\n",
    "nintendo_trading_data = nintendo_stock_data.history(start=\"1997-01-01\", end=\"2016-12-31\")\n",
    "\n",
    "print(nintendo_stock)\n",
    "print(nintendo_trading_data)\n"
   ]
  },
  {
   "cell_type": "markdown",
   "metadata": {},
   "source": [
    "### Load Microsoft data"
   ]
  },
  {
   "cell_type": "code",
   "execution_count": 4,
   "metadata": {},
   "outputs": [
    {
     "name": "stdout",
     "output_type": "stream",
     "text": [
      "{'sector': 'Technology', 'market': 'us_market', 'longName': 'Microsoft Corporation', 'shortName': 'Microsoft Corporation', 'symbol': 'MSFT'}\n",
      "             Open   High    Low  Close    Volume  Dividends  Stock Splits\n",
      "Date                                                                     \n",
      "1997-01-02   6.65   6.65   6.46   6.53  54480800        0.0           0.0\n",
      "1997-01-03   6.58   6.78   6.56   6.77  44131200        0.0           0.0\n",
      "1997-01-06   6.77   6.82   6.65   6.75  55948000        0.0           0.0\n",
      "1997-01-07   6.76   6.81   6.67   6.80  36880800        0.0           0.0\n",
      "1997-01-08   6.80   6.82   6.65   6.67  50593600        0.0           0.0\n",
      "...           ...    ...    ...    ...       ...        ...           ...\n",
      "2016-12-23  59.79  59.87  59.18  59.59  12403800        0.0           0.0\n",
      "2016-12-27  59.56  60.37  59.56  59.63  11763200        0.0           0.0\n",
      "2016-12-28  59.74  59.74  59.20  59.36  14653300        0.0           0.0\n",
      "2016-12-29  59.23  59.55  59.11  59.27  10250600        0.0           0.0\n",
      "2016-12-30  59.33  59.36  58.45  58.55  25579900        0.0           0.0\n",
      "\n",
      "[5034 rows x 7 columns]\n"
     ]
    }
   ],
   "source": [
    "microsoft_stock_data = yf.Ticker(\"MSFT\")\n",
    "\n",
    "microsoft_stock = {\n",
    "    \"sector\" : microsoft_stock_data.info['sector'],\n",
    "    \"market\" : microsoft_stock_data.info['market'],\n",
    "    \"longName\" : microsoft_stock_data.info['longName'],\n",
    "    \"shortName\" : microsoft_stock_data.info['shortName'],\n",
    "    \"symbol\" : microsoft_stock_data.info['symbol']\n",
    "}\n",
    "\n",
    "microsoft_trading_data = microsoft_stock_data.history(start=\"1997-01-01\", end=\"2016-12-31\")\n",
    "\n",
    "print(microsoft_stock)\n",
    "print(microsoft_trading_data)\n"
   ]
  },
  {
   "cell_type": "markdown",
   "metadata": {},
   "source": [
    "### Load Sony data"
   ]
  },
  {
   "cell_type": "code",
   "execution_count": 5,
   "metadata": {},
   "outputs": [
    {
     "name": "stdout",
     "output_type": "stream",
     "text": [
      "{'sector': 'Technology', 'market': 'us_market', 'longName': 'Sony Corporation', 'shortName': 'Sony Corporation', 'symbol': 'SNE'}\n",
      "             Open   High    Low  Close  Volume  Dividends  Stock Splits\n",
      "Date                                                                   \n",
      "1997-01-02  26.99  27.04  26.78  26.89   22800        0.0           0.0\n",
      "1997-01-03  26.89  26.99  26.78  26.83   34200        0.0           0.0\n",
      "1997-01-06  27.14  27.30  27.14  27.19  115000        0.0           0.0\n",
      "1997-01-07  27.25  27.50  27.19  27.50   94000        0.0           0.0\n",
      "1997-01-08  27.40  27.45  27.14  27.30  106000        0.0           0.0\n",
      "...           ...    ...    ...    ...     ...        ...           ...\n",
      "2016-12-23  27.74  27.87  27.74  27.84  331400        0.0           0.0\n",
      "2016-12-27  27.68  27.86  27.67  27.76  402400        0.0           0.0\n",
      "2016-12-28  27.88  27.88  27.65  27.66  355900        0.0           0.0\n",
      "2016-12-29  27.56  27.64  27.51  27.53  431400        0.0           0.0\n",
      "2016-12-30  27.39  27.51  27.30  27.42  645300        0.0           0.0\n",
      "\n",
      "[5034 rows x 7 columns]\n"
     ]
    }
   ],
   "source": [
    "sony_stock_data = yf.Ticker(\"SNE\")\n",
    "\n",
    "sony_stock = {\n",
    "    \"sector\" : sony_stock_data.info['sector'],\n",
    "    \"market\" : sony_stock_data.info['market'],\n",
    "    \"longName\" : sony_stock_data.info['longName'],\n",
    "    \"shortName\" : sony_stock_data.info['shortName'],\n",
    "    \"symbol\" : sony_stock_data.info['symbol']\n",
    "}\n",
    "\n",
    "sony_trading_data = sony_stock_data.history(start=\"1997-01-01\", end=\"2016-12-31\")\n",
    "\n",
    "print(sony_stock)\n",
    "print(sony_trading_data)\n"
   ]
  },
  {
   "cell_type": "markdown",
   "metadata": {},
   "source": [
    "## Transform data"
   ]
  },
  {
   "cell_type": "code",
   "execution_count": 6,
   "metadata": {},
   "outputs": [],
   "source": [
    "nintendo_stock['shortName'] = 'Nintendo'\n",
    "nintendo_trading_data = nintendo_trading_data.drop(columns=[\"Dividends\", \"Stock Splits\", \"High\", \"Low\"])\n",
    "nintendo_trading_data['symbol'] = nintendo_stock_data.info['symbol']\n",
    "\n",
    "microsoft_stock['shortName'] = 'Microsoft'\n",
    "microsoft_trading_data = microsoft_trading_data.drop(columns=[\"Dividends\", \"Stock Splits\", \"High\", \"Low\"])\n",
    "microsoft_trading_data['symbol'] = microsoft_stock_data.info['symbol']\n",
    "\n",
    "sony_stock['shortName'] = 'Sony'\n",
    "sony_trading_data = sony_trading_data.drop(columns=[\"Dividends\", \"Stock Splits\", \"High\", \"Low\"])\n",
    "sony_trading_data['symbol'] = sony_stock_data.info['symbol']\n",
    "\n",
    "platform_companies_info_list = [nintendo_stock, microsoft_stock, sony_stock]\n",
    "\n",
    "combined_platform_companies_info = pd.DataFrame(platform_companies_info_list)\n",
    "combined_platform_companies_info = combined_platform_companies_info.drop(columns=['sector', 'longName'])\n",
    "combined_platform_companies_info = combined_platform_companies_info[['symbol', 'shortName', 'market']]\n",
    "combined_platform_companies_info = combined_platform_companies_info.rename(\n",
    "    columns={\n",
    "        \"symbol\": \"ticker\",\n",
    "        \"shortName\": \"company_name\"\n",
    "    }\n",
    ")\n",
    "combined_platform_companies_info = combined_platform_companies_info.set_index('ticker')\n",
    "\n",
    "combined_platform_companies_trading_data = pd.concat([nintendo_trading_data, microsoft_trading_data, sony_trading_data])\n",
    "combined_platform_companies_trading_data = combined_platform_companies_trading_data.reset_index()\n",
    "combined_platform_companies_trading_data = combined_platform_companies_trading_data[['symbol', 'Date', 'Open', 'Close', 'Volume']]\n",
    "combined_platform_companies_trading_data = combined_platform_companies_trading_data.rename(\n",
    "    columns={\n",
    "        'symbol': 'ticker',\n",
    "        'Open': 'open_price',\n",
    "        'Close': 'close_price',\n",
    "        'Volume': 'volume',\n",
    "        'Date': 'date'\n",
    "    }\n",
    ")\n"
   ]
  },
  {
   "cell_type": "code",
   "execution_count": 8,
   "metadata": {},
   "outputs": [
    {
     "name": "stdout",
     "output_type": "stream",
     "text": [
      "       company_name     market\n",
      "ticker                        \n",
      "NTDOY      Nintendo  us_market\n",
      "MSFT      Microsoft  us_market\n",
      "SNE            Sony  us_market\n",
      "      ticker       date  open_price  close_price  volume\n",
      "0      NTDOY 1997-01-02        6.19         6.19   44800\n",
      "1      NTDOY 1997-01-03        6.10         6.10   53400\n",
      "2      NTDOY 1997-01-06        6.02         6.02   69600\n",
      "3      NTDOY 1997-01-07        6.19         6.19   38100\n",
      "4      NTDOY 1997-01-08        5.85         5.85   52000\n",
      "...      ...        ...         ...          ...     ...\n",
      "15097    SNE 2016-12-23       27.74        27.84  331400\n",
      "15098    SNE 2016-12-27       27.68        27.76  402400\n",
      "15099    SNE 2016-12-28       27.88        27.66  355900\n",
      "15100    SNE 2016-12-29       27.56        27.53  431400\n",
      "15101    SNE 2016-12-30       27.39        27.42  645300\n",
      "\n",
      "[15102 rows x 5 columns]\n"
     ]
    }
   ],
   "source": [
    "print(combined_platform_companies_info)\n",
    "print(combined_platform_companies_trading_data)\n"
   ]
  },
  {
   "cell_type": "markdown",
   "metadata": {},
   "source": [
    "## Persist information in PostgreSQL"
   ]
  },
  {
   "cell_type": "code",
   "execution_count": 9,
   "metadata": {},
   "outputs": [
    {
     "data": {
      "text/plain": [
       "['video_game',\n",
       " 'games_sales',\n",
       " 'game_platform',\n",
       " 'platform_catalog',\n",
       " 'stock',\n",
       " 'stock_history']"
      ]
     },
     "execution_count": 9,
     "metadata": {},
     "output_type": "execute_result"
    }
   ],
   "source": [
    "rds_connection_string = f'{username}:{password}@localhost:5432/videogames'\n",
    "engine = create_engine(f'postgresql://{rds_connection_string}')\n",
    "\n",
    "engine.table_names() \n"
   ]
  },
  {
   "cell_type": "code",
   "execution_count": 11,
   "metadata": {},
   "outputs": [],
   "source": [
    "combined_platform_companies_info.to_sql(name='stock', con=engine, if_exists='append', index=True) \n"
   ]
  },
  {
   "cell_type": "code",
   "execution_count": 12,
   "metadata": {},
   "outputs": [],
   "source": [
    "combined_platform_companies_trading_data.to_sql(\n",
    "    name='stock_history', con=engine, if_exists='append', index=True, index_label='id'\n",
    ")\n"
   ]
  },
  {
   "cell_type": "code",
   "execution_count": null,
   "metadata": {},
   "outputs": [],
   "source": []
  }
 ],
 "metadata": {
  "kernelspec": {
   "display_name": "Python [conda env:PythonData] *",
   "language": "python",
   "name": "conda-env-PythonData-py"
  },
  "language_info": {
   "codemirror_mode": {
    "name": "ipython",
    "version": 3
   },
   "file_extension": ".py",
   "mimetype": "text/x-python",
   "name": "python",
   "nbconvert_exporter": "python",
   "pygments_lexer": "ipython3",
   "version": "3.8.1"
  }
 },
 "nbformat": 4,
 "nbformat_minor": 4
}
